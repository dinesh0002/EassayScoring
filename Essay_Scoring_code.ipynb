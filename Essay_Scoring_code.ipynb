{
  "nbformat": 4,
  "nbformat_minor": 0,
  "metadata": {
    "colab": {
      "name": "Essay_Scoring_code.ipynb",
      "provenance": [],
      "collapsed_sections": []
    },
    "kernelspec": {
      "name": "python3",
      "display_name": "Python 3"
    },
    "language_info": {
      "name": "python"
    },
    "accelerator": "GPU"
  },
  "cells": [
    {
      "cell_type": "code",
      "metadata": {
        "id": "3hLUI4gS5iLe",
        "colab": {
          "base_uri": "https://localhost:8080/"
        },
        "outputId": "f5643419-930c-4bbe-aaa3-f965fce73a1e"
      },
      "source": [
        "# Importing the dataset from the drive \n",
        "\n",
        "from google.colab import drive \n",
        "drive.mount('/content/drive/')"
      ],
      "execution_count": null,
      "outputs": [
        {
          "output_type": "stream",
          "text": [
            "Drive already mounted at /content/drive/; to attempt to forcibly remount, call drive.mount(\"/content/drive/\", force_remount=True).\n"
          ],
          "name": "stdout"
        }
      ]
    },
    {
      "cell_type": "code",
      "metadata": {
        "id": "-9YIjYtJitaV"
      },
      "source": [
        "# importing libraries \n",
        "\n",
        "import numpy as np\n",
        "import pandas as pd\n",
        "import nltk\n",
        "import re\n",
        "\n",
        "from nltk.corpus import stopwords\n",
        "from nltk.tokenize import sent_tokenize,word_tokenize\n",
        "from gensim.models import Word2Vec\n",
        "\n",
        "import keras.backend as K\n",
        "from keras.layers import Embedding, LSTM, Dense, Dropout, Lambda, Flatten\n",
        "from keras.models import Sequential, load_model, model_from_config\n",
        "from sklearn.model_selection import train_test_split\n",
        "from sklearn.metrics import mean_squared_error\n",
        "from sklearn.metrics import cohen_kappa_score"
      ],
      "execution_count": null,
      "outputs": []
    },
    {
      "cell_type": "code",
      "metadata": {
        "id": "EF5dWyRRjJdF"
      },
      "source": [
        "# reading the dataset \n",
        "\n",
        "df = pd.read_csv('/content/drive/MyDrive/ai_hiring/train.csv')"
      ],
      "execution_count": null,
      "outputs": []
    },
    {
      "cell_type": "code",
      "metadata": {
        "id": "DCCKF1OxpfjA",
        "colab": {
          "base_uri": "https://localhost:8080/",
          "height": 195
        },
        "outputId": "799179c1-9e52-41ec-d004-401ee318c544"
      },
      "source": [
        "df.head()"
      ],
      "execution_count": null,
      "outputs": [
        {
          "output_type": "execute_result",
          "data": {
            "text/html": [
              "<div>\n",
              "<style scoped>\n",
              "    .dataframe tbody tr th:only-of-type {\n",
              "        vertical-align: middle;\n",
              "    }\n",
              "\n",
              "    .dataframe tbody tr th {\n",
              "        vertical-align: top;\n",
              "    }\n",
              "\n",
              "    .dataframe thead th {\n",
              "        text-align: right;\n",
              "    }\n",
              "</style>\n",
              "<table border=\"1\" class=\"dataframe\">\n",
              "  <thead>\n",
              "    <tr style=\"text-align: right;\">\n",
              "      <th></th>\n",
              "      <th>Unnamed: 0</th>\n",
              "      <th>promptId</th>\n",
              "      <th>uniqueId</th>\n",
              "      <th>essay</th>\n",
              "      <th>evaluator_rating</th>\n",
              "    </tr>\n",
              "  </thead>\n",
              "  <tbody>\n",
              "    <tr>\n",
              "      <th>0</th>\n",
              "      <td>0</td>\n",
              "      <td>1</td>\n",
              "      <td>1_323</td>\n",
              "      <td>At present age, our education system is not go...</td>\n",
              "      <td>3.0</td>\n",
              "    </tr>\n",
              "    <tr>\n",
              "      <th>1</th>\n",
              "      <td>1</td>\n",
              "      <td>1</td>\n",
              "      <td>1_238</td>\n",
              "      <td>I am agree the tightly defined curriculum of o...</td>\n",
              "      <td>4.0</td>\n",
              "    </tr>\n",
              "    <tr>\n",
              "      <th>2</th>\n",
              "      <td>2</td>\n",
              "      <td>1</td>\n",
              "      <td>1_212</td>\n",
              "      <td>I strongly agree with the statement that tight...</td>\n",
              "      <td>2.0</td>\n",
              "    </tr>\n",
              "    <tr>\n",
              "      <th>3</th>\n",
              "      <td>3</td>\n",
              "      <td>1</td>\n",
              "      <td>1_117</td>\n",
              "      <td>Our education system is nice quitely but i dis...</td>\n",
              "      <td>2.0</td>\n",
              "    </tr>\n",
              "    <tr>\n",
              "      <th>4</th>\n",
              "      <td>4</td>\n",
              "      <td>1</td>\n",
              "      <td>1_229</td>\n",
              "      <td>i am totally agree with the statement that tig...</td>\n",
              "      <td>3.0</td>\n",
              "    </tr>\n",
              "  </tbody>\n",
              "</table>\n",
              "</div>"
            ],
            "text/plain": [
              "   Unnamed: 0  ...  evaluator_rating\n",
              "0           0  ...               3.0\n",
              "1           1  ...               4.0\n",
              "2           2  ...               2.0\n",
              "3           3  ...               2.0\n",
              "4           4  ...               3.0\n",
              "\n",
              "[5 rows x 5 columns]"
            ]
          },
          "metadata": {
            "tags": []
          },
          "execution_count": 4
        }
      ]
    },
    {
      "cell_type": "code",
      "metadata": {
        "id": "UE97P4rfjzZK"
      },
      "source": [
        "df = df.drop(columns=['Unnamed: 0','uniqueId'])"
      ],
      "execution_count": null,
      "outputs": []
    },
    {
      "cell_type": "code",
      "metadata": {
        "id": "wDMxWiXWjz_R"
      },
      "source": [
        "df = df.rename(columns={'evaluator_rating':'score'})"
      ],
      "execution_count": null,
      "outputs": []
    },
    {
      "cell_type": "code",
      "metadata": {
        "colab": {
          "base_uri": "https://localhost:8080/",
          "height": 402
        },
        "id": "fCzOHDV9l2XL",
        "outputId": "9b5b5f78-853e-4631-f103-ea52014fa0c6"
      },
      "source": [
        "df"
      ],
      "execution_count": null,
      "outputs": [
        {
          "output_type": "execute_result",
          "data": {
            "text/html": [
              "<div>\n",
              "<style scoped>\n",
              "    .dataframe tbody tr th:only-of-type {\n",
              "        vertical-align: middle;\n",
              "    }\n",
              "\n",
              "    .dataframe tbody tr th {\n",
              "        vertical-align: top;\n",
              "    }\n",
              "\n",
              "    .dataframe thead th {\n",
              "        text-align: right;\n",
              "    }\n",
              "</style>\n",
              "<table border=\"1\" class=\"dataframe\">\n",
              "  <thead>\n",
              "    <tr style=\"text-align: right;\">\n",
              "      <th></th>\n",
              "      <th>promptId</th>\n",
              "      <th>essay</th>\n",
              "      <th>score</th>\n",
              "    </tr>\n",
              "  </thead>\n",
              "  <tbody>\n",
              "    <tr>\n",
              "      <th>0</th>\n",
              "      <td>1</td>\n",
              "      <td>At present age, our education system is not go...</td>\n",
              "      <td>3.0</td>\n",
              "    </tr>\n",
              "    <tr>\n",
              "      <th>1</th>\n",
              "      <td>1</td>\n",
              "      <td>I am agree the tightly defined curriculum of o...</td>\n",
              "      <td>4.0</td>\n",
              "    </tr>\n",
              "    <tr>\n",
              "      <th>2</th>\n",
              "      <td>1</td>\n",
              "      <td>I strongly agree with the statement that tight...</td>\n",
              "      <td>2.0</td>\n",
              "    </tr>\n",
              "    <tr>\n",
              "      <th>3</th>\n",
              "      <td>1</td>\n",
              "      <td>Our education system is nice quitely but i dis...</td>\n",
              "      <td>2.0</td>\n",
              "    </tr>\n",
              "    <tr>\n",
              "      <th>4</th>\n",
              "      <td>1</td>\n",
              "      <td>i am totally agree with the statement that tig...</td>\n",
              "      <td>3.0</td>\n",
              "    </tr>\n",
              "    <tr>\n",
              "      <th>...</th>\n",
              "      <td>...</td>\n",
              "      <td>...</td>\n",
              "      <td>...</td>\n",
              "    </tr>\n",
              "    <tr>\n",
              "      <th>1235</th>\n",
              "      <td>5</td>\n",
              "      <td>The entire world is in the race of producing a...</td>\n",
              "      <td>3.0</td>\n",
              "    </tr>\n",
              "    <tr>\n",
              "      <th>1236</th>\n",
              "      <td>5</td>\n",
              "      <td>The race in the development of weapons are pro...</td>\n",
              "      <td>2.5</td>\n",
              "    </tr>\n",
              "    <tr>\n",
              "      <th>1237</th>\n",
              "      <td>5</td>\n",
              "      <td>In an era where every second person hopes and ...</td>\n",
              "      <td>4.0</td>\n",
              "    </tr>\n",
              "    <tr>\n",
              "      <th>1238</th>\n",
              "      <td>5</td>\n",
              "      <td>INTRODUCTION :Since the beginning of the time ...</td>\n",
              "      <td>3.0</td>\n",
              "    </tr>\n",
              "    <tr>\n",
              "      <th>1239</th>\n",
              "      <td>5</td>\n",
              "      <td>\"To conquer a nation, first disarm its citizen...</td>\n",
              "      <td>4.5</td>\n",
              "    </tr>\n",
              "  </tbody>\n",
              "</table>\n",
              "<p>1240 rows × 3 columns</p>\n",
              "</div>"
            ],
            "text/plain": [
              "      promptId                                              essay  score\n",
              "0            1  At present age, our education system is not go...    3.0\n",
              "1            1  I am agree the tightly defined curriculum of o...    4.0\n",
              "2            1  I strongly agree with the statement that tight...    2.0\n",
              "3            1  Our education system is nice quitely but i dis...    2.0\n",
              "4            1  i am totally agree with the statement that tig...    3.0\n",
              "...        ...                                                ...    ...\n",
              "1235         5  The entire world is in the race of producing a...    3.0\n",
              "1236         5  The race in the development of weapons are pro...    2.5\n",
              "1237         5  In an era where every second person hopes and ...    4.0\n",
              "1238         5  INTRODUCTION :Since the beginning of the time ...    3.0\n",
              "1239         5  \"To conquer a nation, first disarm its citizen...    4.5\n",
              "\n",
              "[1240 rows x 3 columns]"
            ]
          },
          "metadata": {
            "tags": []
          },
          "execution_count": 7
        }
      ]
    },
    {
      "cell_type": "code",
      "metadata": {
        "colab": {
          "base_uri": "https://localhost:8080/",
          "height": 137
        },
        "id": "dqsN0wazmkWO",
        "outputId": "b661c50d-281f-47d2-880f-9a8c4e3f5619"
      },
      "source": [
        "df['essay'][0]"
      ],
      "execution_count": null,
      "outputs": [
        {
          "output_type": "execute_result",
          "data": {
            "application/vnd.google.colaboratory.intrinsic+json": {
              "type": "string"
            },
            "text/plain": [
              "'At present age, our education system is not good because so many things are done which is not required. Education systemis not work properly for so many regions in present time like corruption etc. but after that many educated people try to remove this type of sitution inour country and they try to give education to children or youngers age who is the future of our country. Teachers always want that their students done their work on time in class and whatever task or assignment they given to student they work on that task with honesty and politely and in case they not know or not able to work on that thing then ask them and the teacher suggested him very polietly. Our education system is work properly in privot schools, colleges, institution because in that place all person active for their work and they done resposibility very excelent way they do not think to others. Not opposite but it will not perform good in Government schools, colleges because in that place upper department not saw the work of lower department they free for them for their work it is the that education system not give challenge to private institutions. At present education system run as business no one can say for excellence they were only focus on the more and more percentage. We can try to the focus to the strength of the student not for percentage. When we focus on strength than student efficiently work on the particular area or field, which he like most and he give 100% on that area. Today world no one can give suggestion that what we do for near in correct manner. They school and college try give space to student and thinking upon hi. It is required for every student and person that they belive in learing.'"
            ]
          },
          "metadata": {
            "tags": []
          },
          "execution_count": 8
        }
      ]
    },
    {
      "cell_type": "code",
      "metadata": {
        "id": "ZzNjL4GemwlH"
      },
      "source": [
        "y_train = df['score']\n",
        "df.drop('score',inplace=True,axis=1)\n",
        "X_train = df"
      ],
      "execution_count": null,
      "outputs": []
    },
    {
      "cell_type": "code",
      "metadata": {
        "colab": {
          "base_uri": "https://localhost:8080/"
        },
        "id": "d6J5LIxgm2Aa",
        "outputId": "99bb07a5-1069-4d94-a17b-0efd1ef4f8e5"
      },
      "source": [
        "y_train"
      ],
      "execution_count": null,
      "outputs": [
        {
          "output_type": "execute_result",
          "data": {
            "text/plain": [
              "0       3.0\n",
              "1       4.0\n",
              "2       2.0\n",
              "3       2.0\n",
              "4       3.0\n",
              "       ... \n",
              "1235    3.0\n",
              "1236    2.5\n",
              "1237    4.0\n",
              "1238    3.0\n",
              "1239    4.5\n",
              "Name: score, Length: 1240, dtype: float64"
            ]
          },
          "metadata": {
            "tags": []
          },
          "execution_count": 10
        }
      ]
    },
    {
      "cell_type": "code",
      "metadata": {
        "colab": {
          "base_uri": "https://localhost:8080/",
          "height": 402
        },
        "id": "Avz5CGU-_rk3",
        "outputId": "c3c27246-ec4d-4dd7-fba4-af48f5078a91"
      },
      "source": [
        "X_train"
      ],
      "execution_count": null,
      "outputs": [
        {
          "output_type": "execute_result",
          "data": {
            "text/html": [
              "<div>\n",
              "<style scoped>\n",
              "    .dataframe tbody tr th:only-of-type {\n",
              "        vertical-align: middle;\n",
              "    }\n",
              "\n",
              "    .dataframe tbody tr th {\n",
              "        vertical-align: top;\n",
              "    }\n",
              "\n",
              "    .dataframe thead th {\n",
              "        text-align: right;\n",
              "    }\n",
              "</style>\n",
              "<table border=\"1\" class=\"dataframe\">\n",
              "  <thead>\n",
              "    <tr style=\"text-align: right;\">\n",
              "      <th></th>\n",
              "      <th>promptId</th>\n",
              "      <th>essay</th>\n",
              "    </tr>\n",
              "  </thead>\n",
              "  <tbody>\n",
              "    <tr>\n",
              "      <th>0</th>\n",
              "      <td>1</td>\n",
              "      <td>At present age, our education system is not go...</td>\n",
              "    </tr>\n",
              "    <tr>\n",
              "      <th>1</th>\n",
              "      <td>1</td>\n",
              "      <td>I am agree the tightly defined curriculum of o...</td>\n",
              "    </tr>\n",
              "    <tr>\n",
              "      <th>2</th>\n",
              "      <td>1</td>\n",
              "      <td>I strongly agree with the statement that tight...</td>\n",
              "    </tr>\n",
              "    <tr>\n",
              "      <th>3</th>\n",
              "      <td>1</td>\n",
              "      <td>Our education system is nice quitely but i dis...</td>\n",
              "    </tr>\n",
              "    <tr>\n",
              "      <th>4</th>\n",
              "      <td>1</td>\n",
              "      <td>i am totally agree with the statement that tig...</td>\n",
              "    </tr>\n",
              "    <tr>\n",
              "      <th>...</th>\n",
              "      <td>...</td>\n",
              "      <td>...</td>\n",
              "    </tr>\n",
              "    <tr>\n",
              "      <th>1235</th>\n",
              "      <td>5</td>\n",
              "      <td>The entire world is in the race of producing a...</td>\n",
              "    </tr>\n",
              "    <tr>\n",
              "      <th>1236</th>\n",
              "      <td>5</td>\n",
              "      <td>The race in the development of weapons are pro...</td>\n",
              "    </tr>\n",
              "    <tr>\n",
              "      <th>1237</th>\n",
              "      <td>5</td>\n",
              "      <td>In an era where every second person hopes and ...</td>\n",
              "    </tr>\n",
              "    <tr>\n",
              "      <th>1238</th>\n",
              "      <td>5</td>\n",
              "      <td>INTRODUCTION :Since the beginning of the time ...</td>\n",
              "    </tr>\n",
              "    <tr>\n",
              "      <th>1239</th>\n",
              "      <td>5</td>\n",
              "      <td>\"To conquer a nation, first disarm its citizen...</td>\n",
              "    </tr>\n",
              "  </tbody>\n",
              "</table>\n",
              "<p>1240 rows × 2 columns</p>\n",
              "</div>"
            ],
            "text/plain": [
              "      promptId                                              essay\n",
              "0            1  At present age, our education system is not go...\n",
              "1            1  I am agree the tightly defined curriculum of o...\n",
              "2            1  I strongly agree with the statement that tight...\n",
              "3            1  Our education system is nice quitely but i dis...\n",
              "4            1  i am totally agree with the statement that tig...\n",
              "...        ...                                                ...\n",
              "1235         5  The entire world is in the race of producing a...\n",
              "1236         5  The race in the development of weapons are pro...\n",
              "1237         5  In an era where every second person hopes and ...\n",
              "1238         5  INTRODUCTION :Since the beginning of the time ...\n",
              "1239         5  \"To conquer a nation, first disarm its citizen...\n",
              "\n",
              "[1240 rows x 2 columns]"
            ]
          },
          "metadata": {
            "tags": []
          },
          "execution_count": 11
        }
      ]
    },
    {
      "cell_type": "code",
      "metadata": {
        "id": "qE39BW2NnStt"
      },
      "source": [
        "X_test = pd.read_csv('/content/drive/MyDrive/ai_hiring/test.csv')"
      ],
      "execution_count": null,
      "outputs": []
    },
    {
      "cell_type": "code",
      "metadata": {
        "colab": {
          "base_uri": "https://localhost:8080/",
          "height": 402
        },
        "id": "33Vawaf_sKnE",
        "outputId": "4da1e032-6fbd-4069-a88a-4bc4a929ce73"
      },
      "source": [
        "X_test"
      ],
      "execution_count": null,
      "outputs": [
        {
          "output_type": "execute_result",
          "data": {
            "text/html": [
              "<div>\n",
              "<style scoped>\n",
              "    .dataframe tbody tr th:only-of-type {\n",
              "        vertical-align: middle;\n",
              "    }\n",
              "\n",
              "    .dataframe tbody tr th {\n",
              "        vertical-align: top;\n",
              "    }\n",
              "\n",
              "    .dataframe thead th {\n",
              "        text-align: right;\n",
              "    }\n",
              "</style>\n",
              "<table border=\"1\" class=\"dataframe\">\n",
              "  <thead>\n",
              "    <tr style=\"text-align: right;\">\n",
              "      <th></th>\n",
              "      <th>Unnamed: 0</th>\n",
              "      <th>promptId</th>\n",
              "      <th>uniqueId</th>\n",
              "      <th>essay</th>\n",
              "    </tr>\n",
              "  </thead>\n",
              "  <tbody>\n",
              "    <tr>\n",
              "      <th>0</th>\n",
              "      <td>0</td>\n",
              "      <td>1</td>\n",
              "      <td>1_315</td>\n",
              "      <td>Curriculum has been adopted in many schools. T...</td>\n",
              "    </tr>\n",
              "    <tr>\n",
              "      <th>1</th>\n",
              "      <td>1</td>\n",
              "      <td>1</td>\n",
              "      <td>1_214</td>\n",
              "      <td>I strongly agree with the statement ,  The tig...</td>\n",
              "    </tr>\n",
              "    <tr>\n",
              "      <th>2</th>\n",
              "      <td>2</td>\n",
              "      <td>1</td>\n",
              "      <td>1_196</td>\n",
              "      <td>Imagination and creativity is the most importa...</td>\n",
              "    </tr>\n",
              "    <tr>\n",
              "      <th>3</th>\n",
              "      <td>3</td>\n",
              "      <td>1</td>\n",
              "      <td>1_178</td>\n",
              "      <td>In our eduction system leaves no room for imag...</td>\n",
              "    </tr>\n",
              "    <tr>\n",
              "      <th>4</th>\n",
              "      <td>4</td>\n",
              "      <td>1</td>\n",
              "      <td>1_201</td>\n",
              "      <td>I will agree at some what extend, because if w...</td>\n",
              "    </tr>\n",
              "    <tr>\n",
              "      <th>...</th>\n",
              "      <td>...</td>\n",
              "      <td>...</td>\n",
              "      <td>...</td>\n",
              "      <td>...</td>\n",
              "    </tr>\n",
              "    <tr>\n",
              "      <th>300</th>\n",
              "      <td>300</td>\n",
              "      <td>5</td>\n",
              "      <td>5_146</td>\n",
              "      <td>Earth is a creation of God and everything that...</td>\n",
              "    </tr>\n",
              "    <tr>\n",
              "      <th>301</th>\n",
              "      <td>301</td>\n",
              "      <td>5</td>\n",
              "      <td>5_65</td>\n",
              "      <td>production of arms and weapons in this present...</td>\n",
              "    </tr>\n",
              "    <tr>\n",
              "      <th>302</th>\n",
              "      <td>302</td>\n",
              "      <td>5</td>\n",
              "      <td>5_151</td>\n",
              "      <td>Race to become more powerful can destroy the e...</td>\n",
              "    </tr>\n",
              "    <tr>\n",
              "      <th>303</th>\n",
              "      <td>303</td>\n",
              "      <td>5</td>\n",
              "      <td>5_404</td>\n",
              "      <td>In its attempt to harness the power of the ato...</td>\n",
              "    </tr>\n",
              "    <tr>\n",
              "      <th>304</th>\n",
              "      <td>304</td>\n",
              "      <td>5</td>\n",
              "      <td>5_360</td>\n",
              "      <td>Racein the production of arms and weapons in t...</td>\n",
              "    </tr>\n",
              "  </tbody>\n",
              "</table>\n",
              "<p>305 rows × 4 columns</p>\n",
              "</div>"
            ],
            "text/plain": [
              "     Unnamed: 0  ...                                              essay\n",
              "0             0  ...  Curriculum has been adopted in many schools. T...\n",
              "1             1  ...  I strongly agree with the statement ,  The tig...\n",
              "2             2  ...  Imagination and creativity is the most importa...\n",
              "3             3  ...  In our eduction system leaves no room for imag...\n",
              "4             4  ...  I will agree at some what extend, because if w...\n",
              "..          ...  ...                                                ...\n",
              "300         300  ...  Earth is a creation of God and everything that...\n",
              "301         301  ...  production of arms and weapons in this present...\n",
              "302         302  ...  Race to become more powerful can destroy the e...\n",
              "303         303  ...  In its attempt to harness the power of the ato...\n",
              "304         304  ...  Racein the production of arms and weapons in t...\n",
              "\n",
              "[305 rows x 4 columns]"
            ]
          },
          "metadata": {
            "tags": []
          },
          "execution_count": 13
        }
      ]
    },
    {
      "cell_type": "code",
      "metadata": {
        "id": "Pa4c1ybHtuHN"
      },
      "source": [
        "X_test = X_test.drop(columns=['Unnamed: 0','uniqueId'])"
      ],
      "execution_count": null,
      "outputs": []
    },
    {
      "cell_type": "code",
      "metadata": {
        "colab": {
          "base_uri": "https://localhost:8080/",
          "height": 402
        },
        "id": "fb3ZUbyvuS00",
        "outputId": "ebd454ee-4a39-4cb8-fba1-f744c0b14abb"
      },
      "source": [
        "X_test"
      ],
      "execution_count": null,
      "outputs": [
        {
          "output_type": "execute_result",
          "data": {
            "text/html": [
              "<div>\n",
              "<style scoped>\n",
              "    .dataframe tbody tr th:only-of-type {\n",
              "        vertical-align: middle;\n",
              "    }\n",
              "\n",
              "    .dataframe tbody tr th {\n",
              "        vertical-align: top;\n",
              "    }\n",
              "\n",
              "    .dataframe thead th {\n",
              "        text-align: right;\n",
              "    }\n",
              "</style>\n",
              "<table border=\"1\" class=\"dataframe\">\n",
              "  <thead>\n",
              "    <tr style=\"text-align: right;\">\n",
              "      <th></th>\n",
              "      <th>promptId</th>\n",
              "      <th>essay</th>\n",
              "    </tr>\n",
              "  </thead>\n",
              "  <tbody>\n",
              "    <tr>\n",
              "      <th>0</th>\n",
              "      <td>1</td>\n",
              "      <td>Curriculum has been adopted in many schools. T...</td>\n",
              "    </tr>\n",
              "    <tr>\n",
              "      <th>1</th>\n",
              "      <td>1</td>\n",
              "      <td>I strongly agree with the statement ,  The tig...</td>\n",
              "    </tr>\n",
              "    <tr>\n",
              "      <th>2</th>\n",
              "      <td>1</td>\n",
              "      <td>Imagination and creativity is the most importa...</td>\n",
              "    </tr>\n",
              "    <tr>\n",
              "      <th>3</th>\n",
              "      <td>1</td>\n",
              "      <td>In our eduction system leaves no room for imag...</td>\n",
              "    </tr>\n",
              "    <tr>\n",
              "      <th>4</th>\n",
              "      <td>1</td>\n",
              "      <td>I will agree at some what extend, because if w...</td>\n",
              "    </tr>\n",
              "    <tr>\n",
              "      <th>...</th>\n",
              "      <td>...</td>\n",
              "      <td>...</td>\n",
              "    </tr>\n",
              "    <tr>\n",
              "      <th>300</th>\n",
              "      <td>5</td>\n",
              "      <td>Earth is a creation of God and everything that...</td>\n",
              "    </tr>\n",
              "    <tr>\n",
              "      <th>301</th>\n",
              "      <td>5</td>\n",
              "      <td>production of arms and weapons in this present...</td>\n",
              "    </tr>\n",
              "    <tr>\n",
              "      <th>302</th>\n",
              "      <td>5</td>\n",
              "      <td>Race to become more powerful can destroy the e...</td>\n",
              "    </tr>\n",
              "    <tr>\n",
              "      <th>303</th>\n",
              "      <td>5</td>\n",
              "      <td>In its attempt to harness the power of the ato...</td>\n",
              "    </tr>\n",
              "    <tr>\n",
              "      <th>304</th>\n",
              "      <td>5</td>\n",
              "      <td>Racein the production of arms and weapons in t...</td>\n",
              "    </tr>\n",
              "  </tbody>\n",
              "</table>\n",
              "<p>305 rows × 2 columns</p>\n",
              "</div>"
            ],
            "text/plain": [
              "     promptId                                              essay\n",
              "0           1  Curriculum has been adopted in many schools. T...\n",
              "1           1  I strongly agree with the statement ,  The tig...\n",
              "2           1  Imagination and creativity is the most importa...\n",
              "3           1  In our eduction system leaves no room for imag...\n",
              "4           1  I will agree at some what extend, because if w...\n",
              "..        ...                                                ...\n",
              "300         5  Earth is a creation of God and everything that...\n",
              "301         5  production of arms and weapons in this present...\n",
              "302         5  Race to become more powerful can destroy the e...\n",
              "303         5  In its attempt to harness the power of the ato...\n",
              "304         5  Racein the production of arms and weapons in t...\n",
              "\n",
              "[305 rows x 2 columns]"
            ]
          },
          "metadata": {
            "tags": []
          },
          "execution_count": 15
        }
      ]
    },
    {
      "cell_type": "code",
      "metadata": {
        "colab": {
          "base_uri": "https://localhost:8080/"
        },
        "id": "49Vj8jQZumhs",
        "outputId": "12862dc3-f23a-4125-fcd5-2ac661bc20e9"
      },
      "source": [
        "X_train.shape, X_test.shape"
      ],
      "execution_count": null,
      "outputs": [
        {
          "output_type": "execute_result",
          "data": {
            "text/plain": [
              "((1240, 2), (305, 2))"
            ]
          },
          "metadata": {
            "tags": []
          },
          "execution_count": 16
        }
      ]
    },
    {
      "cell_type": "markdown",
      "metadata": {
        "id": "AB7OFjICvhb8"
      },
      "source": [
        "# Preprocessing "
      ]
    },
    {
      "cell_type": "code",
      "metadata": {
        "colab": {
          "base_uri": "https://localhost:8080/"
        },
        "id": "vuw_wq0v_315",
        "outputId": "eaa890d6-2cff-4cfd-9ed3-2ad93de08f73"
      },
      "source": [
        "nltk.download('stopwords')"
      ],
      "execution_count": null,
      "outputs": [
        {
          "output_type": "stream",
          "text": [
            "[nltk_data] Downloading package stopwords to /root/nltk_data...\n",
            "[nltk_data]   Package stopwords is already up-to-date!\n"
          ],
          "name": "stdout"
        },
        {
          "output_type": "execute_result",
          "data": {
            "text/plain": [
              "True"
            ]
          },
          "metadata": {
            "tags": []
          },
          "execution_count": 17
        }
      ]
    },
    {
      "cell_type": "code",
      "metadata": {
        "colab": {
          "base_uri": "https://localhost:8080/"
        },
        "id": "MwETwddD_5bi",
        "outputId": "e9cd2a20-9e0a-46be-9278-245ff443be25"
      },
      "source": [
        "nltk.download('punkt')"
      ],
      "execution_count": null,
      "outputs": [
        {
          "output_type": "stream",
          "text": [
            "[nltk_data] Downloading package punkt to /root/nltk_data...\n",
            "[nltk_data]   Package punkt is already up-to-date!\n"
          ],
          "name": "stdout"
        },
        {
          "output_type": "execute_result",
          "data": {
            "text/plain": [
              "True"
            ]
          },
          "metadata": {
            "tags": []
          },
          "execution_count": 18
        }
      ]
    },
    {
      "cell_type": "code",
      "metadata": {
        "id": "VHgLkDTLAUuV"
      },
      "source": [
        "train_e = X_train['essay'].tolist()\n",
        "test_e = X_test['essay'].tolist()"
      ],
      "execution_count": null,
      "outputs": []
    },
    {
      "cell_type": "code",
      "metadata": {
        "id": "kAxo_RXDu-Is"
      },
      "source": [
        "train_sents=[]\n",
        "test_sents=[]\n",
        "\n",
        "stop_words = set(stopwords.words('english')) \n",
        "\n",
        "def sent2word(x):\n",
        "    x=re.sub(\"[^A-Za-z]\",\" \",x)\n",
        "    x.lower()\n",
        "    filtered_sentence = [] \n",
        "    words=x.split()\n",
        "    for w in words:\n",
        "        if w not in stop_words: \n",
        "            filtered_sentence.append(w)\n",
        "    return filtered_sentence\n",
        "\n",
        "def essay2word(essay):\n",
        "    essay = essay.strip()\n",
        "    tokenizer = nltk.data.load('tokenizers/punkt/english.pickle')\n",
        "    raw = tokenizer.tokenize(essay)\n",
        "    final_words=[]\n",
        "    for i in raw:\n",
        "        if(len(i)>0):\n",
        "            final_words.append(sent2word(i))\n",
        "    return final_words\n",
        "\n",
        "for i in train_e:\n",
        "    train_sents+=essay2word(i)\n",
        "\n",
        "for i in test_e:\n",
        "    test_sents+=essay2word(i)"
      ],
      "execution_count": null,
      "outputs": []
    },
    {
      "cell_type": "code",
      "metadata": {
        "colab": {
          "base_uri": "https://localhost:8080/"
        },
        "id": "QtiqjFRnxMEO",
        "outputId": "50014223-12a4-4caa-8dae-3671c35c4033"
      },
      "source": [
        "len(train_sents)"
      ],
      "execution_count": null,
      "outputs": [
        {
          "output_type": "execute_result",
          "data": {
            "text/plain": [
              "11527"
            ]
          },
          "metadata": {
            "tags": []
          },
          "execution_count": 21
        }
      ]
    },
    {
      "cell_type": "code",
      "metadata": {
        "colab": {
          "base_uri": "https://localhost:8080/"
        },
        "id": "LghRtA-HAomF",
        "outputId": "ba3e38e9-dde5-4b97-e159-9a576153eef9"
      },
      "source": [
        "len(test_sents)"
      ],
      "execution_count": null,
      "outputs": [
        {
          "output_type": "execute_result",
          "data": {
            "text/plain": [
              "2728"
            ]
          },
          "metadata": {
            "tags": []
          },
          "execution_count": 22
        }
      ]
    },
    {
      "cell_type": "code",
      "metadata": {
        "colab": {
          "base_uri": "https://localhost:8080/"
        },
        "id": "uoMXMoWWAq8p",
        "outputId": "e21feb82-45ba-499e-82b8-88f5803417f3"
      },
      "source": [
        "train_sents[5]"
      ],
      "execution_count": null,
      "outputs": [
        {
          "output_type": "execute_result",
          "data": {
            "text/plain": [
              "['Not',\n",
              " 'opposite',\n",
              " 'perform',\n",
              " 'good',\n",
              " 'Government',\n",
              " 'schools',\n",
              " 'colleges',\n",
              " 'place',\n",
              " 'upper',\n",
              " 'department',\n",
              " 'saw',\n",
              " 'work',\n",
              " 'lower',\n",
              " 'department',\n",
              " 'free',\n",
              " 'work',\n",
              " 'education',\n",
              " 'system',\n",
              " 'give',\n",
              " 'challenge',\n",
              " 'private',\n",
              " 'institutions']"
            ]
          },
          "metadata": {
            "tags": []
          },
          "execution_count": 23
        }
      ]
    },
    {
      "cell_type": "markdown",
      "metadata": {
        "id": "u3Inrf4HA6j6"
      },
      "source": [
        "# Preparing LSTM MODEL"
      ]
    },
    {
      "cell_type": "code",
      "metadata": {
        "id": "jQbgKhzCAudO"
      },
      "source": [
        "def get_model():\n",
        "    model = Sequential()\n",
        "    model.add(LSTM(300, dropout=0.4, recurrent_dropout=0.4, input_shape=[1, 300], return_sequences=True))\n",
        "    model.add(LSTM(64, recurrent_dropout=0.4))\n",
        "    model.add(Dropout(0.5))\n",
        "    model.add(Dense(1, activation='relu'))\n",
        "    model.compile(loss='mean_squared_error', optimizer='rmsprop',metrics=['accuracy','mae'])\n",
        "    model.summary()\n",
        "    return model"
      ],
      "execution_count": null,
      "outputs": []
    },
    {
      "cell_type": "code",
      "metadata": {
        "id": "ZvRII4F7BSzv"
      },
      "source": [
        "#Training Word2Vec model\n",
        "\n",
        "num_features = 300 \n",
        "min_word_count = 40\n",
        "num_workers = 4\n",
        "context = 10\n",
        "downsampling = 1e-3\n",
        "\n",
        "model = Word2Vec(train_sents, \n",
        "                 workers=num_workers, \n",
        "                 size=num_features, \n",
        "                 min_count = min_word_count, \n",
        "                 window = context, \n",
        "                 sample = downsampling)\n",
        "\n",
        "model.init_sims(replace=True)\n",
        "model.wv.save_word2vec_format('word2vecmodel.bin', binary=True)"
      ],
      "execution_count": null,
      "outputs": []
    },
    {
      "cell_type": "code",
      "metadata": {
        "colab": {
          "base_uri": "https://localhost:8080/"
        },
        "id": "SsOnWQ4TBeQw",
        "outputId": "18f2ec56-bb56-4700-d8fb-1927a4d473c8"
      },
      "source": [
        "def makeVec(words, model, num_features):\n",
        "    vec = np.zeros((num_features,), dtype=\"float32\")\n",
        "    noOfWords = 0.\n",
        "    index2word_set = set(model.wv.index2word)\n",
        "    for i in words:\n",
        "        if i in index2word_set:\n",
        "            noOfWords += 1\n",
        "            vec = np.add(vec,model[i])        \n",
        "    vec = np.divide(vec,noOfWords)\n",
        "    return vec\n",
        "\n",
        "\n",
        "def getVecs(essays, model, num_features):\n",
        "    count = 0\n",
        "    essay_vecs = np.zeros((len(essays),num_features),dtype=\"float32\")\n",
        "    for i in essays:\n",
        "        essay_vecs[count] = makeVec(i, model, num_features)\n",
        "        count += 1\n",
        "    return essay_vecs\n",
        "\n",
        "\n",
        "clean_train=[]\n",
        "\n",
        "for i in train_e:\n",
        "    clean_train.append(sent2word(i))\n",
        "training_vectors = getVecs(clean_train, model, num_features)\n",
        "\n",
        "clean_test=[] \n",
        "\n",
        "for i in test_e:\n",
        "    clean_test.append(sent2word(i))\n",
        "testing_vectors = getVecs(clean_test, model, num_features)"
      ],
      "execution_count": null,
      "outputs": [
        {
          "output_type": "stream",
          "text": [
            "/usr/local/lib/python3.7/dist-packages/ipykernel_launcher.py:8: DeprecationWarning: Call to deprecated `__getitem__` (Method will be removed in 4.0.0, use self.wv.__getitem__() instead).\n",
            "  \n"
          ],
          "name": "stderr"
        }
      ]
    },
    {
      "cell_type": "code",
      "metadata": {
        "colab": {
          "base_uri": "https://localhost:8080/"
        },
        "id": "dflgHpS_B4kS",
        "outputId": "036f3578-f718-4f3d-fa44-13bcc8c2179d"
      },
      "source": [
        "training_vectors.shape"
      ],
      "execution_count": null,
      "outputs": [
        {
          "output_type": "execute_result",
          "data": {
            "text/plain": [
              "(1240, 300)"
            ]
          },
          "metadata": {
            "tags": []
          },
          "execution_count": 27
        }
      ]
    },
    {
      "cell_type": "code",
      "metadata": {
        "colab": {
          "base_uri": "https://localhost:8080/"
        },
        "id": "Fu6GYzxSIm6P",
        "outputId": "22dc4d8f-52b0-4c9b-c51a-1bf9cdd27888"
      },
      "source": [
        "training_vectors"
      ],
      "execution_count": null,
      "outputs": [
        {
          "output_type": "execute_result",
          "data": {
            "text/plain": [
              "array([[-0.00319389,  0.01608094, -0.10613039, ...,  0.00924635,\n",
              "        -0.02388303,  0.00655016],\n",
              "       [ 0.00046103,  0.01696447, -0.08171739, ...,  0.01048832,\n",
              "        -0.03859491, -0.00837543],\n",
              "       [ 0.0055596 ,  0.0113463 , -0.09916937, ...,  0.00373044,\n",
              "        -0.03052321, -0.01034497],\n",
              "       ...,\n",
              "       [ 0.00364791, -0.00915951, -0.09941565, ..., -0.0038315 ,\n",
              "        -0.00329722, -0.00383761],\n",
              "       [ 0.00184123, -0.0084358 , -0.09609666, ..., -0.00323701,\n",
              "        -0.00380062, -0.00473638],\n",
              "       [-0.00104747, -0.01097726, -0.09413584, ..., -0.00450476,\n",
              "         0.00253275, -0.0016561 ]], dtype=float32)"
            ]
          },
          "metadata": {
            "tags": []
          },
          "execution_count": 28
        }
      ]
    },
    {
      "cell_type": "code",
      "metadata": {
        "colab": {
          "base_uri": "https://localhost:8080/"
        },
        "id": "vPulZOscIthC",
        "outputId": "429fa82b-31cc-49ea-bb72-f09198669878"
      },
      "source": [
        "testing_vectors"
      ],
      "execution_count": null,
      "outputs": [
        {
          "output_type": "execute_result",
          "data": {
            "text/plain": [
              "array([[-0.0007781 ,  0.0166339 , -0.08895762, ...,  0.01036535,\n",
              "        -0.03185473, -0.004624  ],\n",
              "       [ 0.00284804,  0.01608943, -0.08169953, ...,  0.0097451 ,\n",
              "        -0.03750173, -0.01363392],\n",
              "       [ 0.00908039,  0.01049536, -0.10315957, ...,  0.00209458,\n",
              "        -0.03337025, -0.00953309],\n",
              "       ...,\n",
              "       [ 0.00816296, -0.02046868, -0.09700317, ..., -0.01008742,\n",
              "         0.006501  , -0.00326278],\n",
              "       [ 0.00423583, -0.01289677, -0.10273359, ..., -0.00572433,\n",
              "        -0.00116716, -0.00552742],\n",
              "       [ 0.00817247, -0.0172872 , -0.11039079, ..., -0.00994854,\n",
              "         0.0046935 , -0.00446463]], dtype=float32)"
            ]
          },
          "metadata": {
            "tags": []
          },
          "execution_count": 29
        }
      ]
    },
    {
      "cell_type": "code",
      "metadata": {
        "colab": {
          "base_uri": "https://localhost:8080/"
        },
        "id": "EpGUnKtxFdbq",
        "outputId": "9111922a-745b-486c-fcf7-d0b3fef2d200"
      },
      "source": [
        "training_vectors.shape"
      ],
      "execution_count": null,
      "outputs": [
        {
          "output_type": "execute_result",
          "data": {
            "text/plain": [
              "(1240, 300)"
            ]
          },
          "metadata": {
            "tags": []
          },
          "execution_count": 30
        }
      ]
    },
    {
      "cell_type": "code",
      "metadata": {
        "colab": {
          "base_uri": "https://localhost:8080/"
        },
        "id": "Dmr6udTnIzrD",
        "outputId": "212231d1-ff8a-4953-e4f1-08364bff059f"
      },
      "source": [
        "testing_vectors.shape"
      ],
      "execution_count": null,
      "outputs": [
        {
          "output_type": "execute_result",
          "data": {
            "text/plain": [
              "(305, 300)"
            ]
          },
          "metadata": {
            "tags": []
          },
          "execution_count": 31
        }
      ]
    },
    {
      "cell_type": "code",
      "metadata": {
        "colab": {
          "base_uri": "https://localhost:8080/"
        },
        "id": "0xpJKcy4CDc0",
        "outputId": "65f1421b-272c-49dd-99c7-1d884598b60c"
      },
      "source": [
        "training_vectors = np.array(training_vectors)\n",
        "testing_vectors = np.array(testing_vectors)\n",
        "\n",
        "training_vectors = np.reshape(training_vectors, (training_vectors.shape[0], 1, training_vectors.shape[1]))\n",
        "testing_vectors = np.reshape(testing_vectors, (testing_vectors.shape[0], 1, testing_vectors.shape[1]))"
      ],
      "execution_count": null,
      "outputs": [
        {
          "output_type": "stream",
          "text": [
            "WARNING:tensorflow:Layer lstm will not use cuDNN kernels since it doesn't meet the criteria. It will use a generic GPU kernel as fallback when running on GPU.\n",
            "WARNING:tensorflow:Layer lstm_1 will not use cuDNN kernels since it doesn't meet the criteria. It will use a generic GPU kernel as fallback when running on GPU.\n",
            "Model: \"sequential\"\n",
            "_________________________________________________________________\n",
            "Layer (type)                 Output Shape              Param #   \n",
            "=================================================================\n",
            "lstm (LSTM)                  (None, 1, 300)            721200    \n",
            "_________________________________________________________________\n",
            "lstm_1 (LSTM)                (None, 64)                93440     \n",
            "_________________________________________________________________\n",
            "dropout (Dropout)            (None, 64)                0         \n",
            "_________________________________________________________________\n",
            "dense (Dense)                (None, 1)                 65        \n",
            "=================================================================\n",
            "Total params: 814,705\n",
            "Trainable params: 814,705\n",
            "Non-trainable params: 0\n",
            "_________________________________________________________________\n"
          ],
          "name": "stdout"
        }
      ]
    },
    {
      "cell_type": "code",
      "metadata": {
        "colab": {
          "base_uri": "https://localhost:8080/"
        },
        "id": "zWLHXPljW31f",
        "outputId": "5aa2928e-a820-489e-eb84-eae70b50d76a"
      },
      "source": [
        "training_vectors.shape"
      ],
      "execution_count": null,
      "outputs": [
        {
          "output_type": "execute_result",
          "data": {
            "text/plain": [
              "(1240, 1, 300)"
            ]
          },
          "metadata": {
            "tags": []
          },
          "execution_count": 33
        }
      ]
    },
    {
      "cell_type": "code",
      "metadata": {
        "colab": {
          "base_uri": "https://localhost:8080/"
        },
        "id": "_S5ok8vVW6F5",
        "outputId": "b10e1740-9b90-4149-d098-cedab938091d"
      },
      "source": [
        "testing_vectors.shape"
      ],
      "execution_count": null,
      "outputs": [
        {
          "output_type": "execute_result",
          "data": {
            "text/plain": [
              "(305, 1, 300)"
            ]
          },
          "metadata": {
            "tags": []
          },
          "execution_count": 34
        }
      ]
    },
    {
      "cell_type": "code",
      "metadata": {
        "colab": {
          "base_uri": "https://localhost:8080/"
        },
        "id": "6aEFC4QuMig9",
        "outputId": "d2da47eb-355b-45cd-a796-77a6a3379a3e"
      },
      "source": [
        "lstm_model = get_model()\n",
        "lstm_model.fit(training_vectors, y_train, batch_size=64, epochs=100)"
      ],
      "execution_count": null,
      "outputs": [
        {
          "output_type": "stream",
          "text": [
            "Epoch 1/100\n",
            "20/20 [==============================] - 0s 19ms/step - loss: 1.1068 - accuracy: 0.0250 - mae: 0.7866\n",
            "Epoch 2/100\n",
            "20/20 [==============================] - 0s 18ms/step - loss: 1.0871 - accuracy: 0.0250 - mae: 0.7887\n",
            "Epoch 3/100\n",
            "20/20 [==============================] - 0s 14ms/step - loss: 1.0986 - accuracy: 0.0250 - mae: 0.7791\n",
            "Epoch 4/100\n",
            "20/20 [==============================] - 0s 19ms/step - loss: 1.0534 - accuracy: 0.0258 - mae: 0.7622\n",
            "Epoch 5/100\n",
            "20/20 [==============================] - 0s 18ms/step - loss: 1.0871 - accuracy: 0.0242 - mae: 0.7753\n",
            "Epoch 6/100\n",
            "20/20 [==============================] - 0s 16ms/step - loss: 1.0336 - accuracy: 0.0242 - mae: 0.7611\n",
            "Epoch 7/100\n",
            "20/20 [==============================] - 0s 20ms/step - loss: 1.1114 - accuracy: 0.0250 - mae: 0.7847\n",
            "Epoch 8/100\n",
            "20/20 [==============================] - 0s 15ms/step - loss: 1.0900 - accuracy: 0.0250 - mae: 0.7818\n",
            "Epoch 9/100\n",
            "20/20 [==============================] - 0s 14ms/step - loss: 1.0763 - accuracy: 0.0250 - mae: 0.7714\n",
            "Epoch 10/100\n",
            "20/20 [==============================] - 0s 17ms/step - loss: 1.0878 - accuracy: 0.0242 - mae: 0.7812\n",
            "Epoch 11/100\n",
            "20/20 [==============================] - 0s 17ms/step - loss: 1.0607 - accuracy: 0.0250 - mae: 0.7691\n",
            "Epoch 12/100\n",
            "20/20 [==============================] - 0s 16ms/step - loss: 1.0859 - accuracy: 0.0250 - mae: 0.7769\n",
            "Epoch 13/100\n",
            "20/20 [==============================] - 0s 17ms/step - loss: 1.0914 - accuracy: 0.0242 - mae: 0.7778\n",
            "Epoch 14/100\n",
            "20/20 [==============================] - 0s 14ms/step - loss: 1.0883 - accuracy: 0.0250 - mae: 0.7823\n",
            "Epoch 15/100\n",
            "20/20 [==============================] - 0s 12ms/step - loss: 1.1036 - accuracy: 0.0242 - mae: 0.7736\n",
            "Epoch 16/100\n",
            "20/20 [==============================] - 0s 14ms/step - loss: 1.0470 - accuracy: 0.0242 - mae: 0.7690\n",
            "Epoch 17/100\n",
            "20/20 [==============================] - 0s 13ms/step - loss: 1.0923 - accuracy: 0.0242 - mae: 0.7799\n",
            "Epoch 18/100\n",
            "20/20 [==============================] - 0s 12ms/step - loss: 1.0877 - accuracy: 0.0242 - mae: 0.7790\n",
            "Epoch 19/100\n",
            "20/20 [==============================] - 0s 12ms/step - loss: 1.0628 - accuracy: 0.0250 - mae: 0.7661\n",
            "Epoch 20/100\n",
            "20/20 [==============================] - 0s 13ms/step - loss: 1.0732 - accuracy: 0.0242 - mae: 0.7711\n",
            "Epoch 21/100\n",
            "20/20 [==============================] - 0s 12ms/step - loss: 1.0753 - accuracy: 0.0250 - mae: 0.7715\n",
            "Epoch 22/100\n",
            "20/20 [==============================] - 0s 13ms/step - loss: 1.1001 - accuracy: 0.0242 - mae: 0.7886\n",
            "Epoch 23/100\n",
            "20/20 [==============================] - 0s 13ms/step - loss: 1.0940 - accuracy: 0.0242 - mae: 0.7825\n",
            "Epoch 24/100\n",
            "20/20 [==============================] - 0s 16ms/step - loss: 1.0740 - accuracy: 0.0250 - mae: 0.7755\n",
            "Epoch 25/100\n",
            "20/20 [==============================] - 0s 12ms/step - loss: 1.0807 - accuracy: 0.0242 - mae: 0.7825\n",
            "Epoch 26/100\n",
            "20/20 [==============================] - 0s 12ms/step - loss: 1.0666 - accuracy: 0.0250 - mae: 0.7709\n",
            "Epoch 27/100\n",
            "20/20 [==============================] - 0s 12ms/step - loss: 1.0748 - accuracy: 0.0250 - mae: 0.7706\n",
            "Epoch 28/100\n",
            "20/20 [==============================] - 0s 15ms/step - loss: 1.0545 - accuracy: 0.0250 - mae: 0.7670\n",
            "Epoch 29/100\n",
            "20/20 [==============================] - 0s 17ms/step - loss: 1.0578 - accuracy: 0.0250 - mae: 0.7623\n",
            "Epoch 30/100\n",
            "20/20 [==============================] - 0s 13ms/step - loss: 1.0923 - accuracy: 0.0242 - mae: 0.7839\n",
            "Epoch 31/100\n",
            "20/20 [==============================] - 0s 14ms/step - loss: 1.0671 - accuracy: 0.0250 - mae: 0.7722\n",
            "Epoch 32/100\n",
            "20/20 [==============================] - 0s 12ms/step - loss: 1.0630 - accuracy: 0.0250 - mae: 0.7738\n",
            "Epoch 33/100\n",
            "20/20 [==============================] - 0s 17ms/step - loss: 1.0758 - accuracy: 0.0258 - mae: 0.7738\n",
            "Epoch 34/100\n",
            "20/20 [==============================] - 0s 18ms/step - loss: 1.0853 - accuracy: 0.0242 - mae: 0.7677\n",
            "Epoch 35/100\n",
            "20/20 [==============================] - 0s 14ms/step - loss: 1.0854 - accuracy: 0.0250 - mae: 0.7700\n",
            "Epoch 36/100\n",
            "20/20 [==============================] - 0s 12ms/step - loss: 1.0617 - accuracy: 0.0242 - mae: 0.7803\n",
            "Epoch 37/100\n",
            "20/20 [==============================] - 0s 14ms/step - loss: 1.0852 - accuracy: 0.0242 - mae: 0.7768\n",
            "Epoch 38/100\n",
            "20/20 [==============================] - 0s 14ms/step - loss: 1.0977 - accuracy: 0.0250 - mae: 0.7814\n",
            "Epoch 39/100\n",
            "20/20 [==============================] - 0s 13ms/step - loss: 1.0785 - accuracy: 0.0250 - mae: 0.7692\n",
            "Epoch 40/100\n",
            "20/20 [==============================] - 0s 12ms/step - loss: 1.0965 - accuracy: 0.0242 - mae: 0.7911\n",
            "Epoch 41/100\n",
            "20/20 [==============================] - 0s 12ms/step - loss: 1.0645 - accuracy: 0.0250 - mae: 0.7650\n",
            "Epoch 42/100\n",
            "20/20 [==============================] - 0s 13ms/step - loss: 1.0872 - accuracy: 0.0242 - mae: 0.7728\n",
            "Epoch 43/100\n",
            "20/20 [==============================] - 0s 12ms/step - loss: 1.0689 - accuracy: 0.0250 - mae: 0.7706\n",
            "Epoch 44/100\n",
            "20/20 [==============================] - 0s 12ms/step - loss: 1.0720 - accuracy: 0.0250 - mae: 0.7768\n",
            "Epoch 45/100\n",
            "20/20 [==============================] - 0s 13ms/step - loss: 1.0796 - accuracy: 0.0242 - mae: 0.7809\n",
            "Epoch 46/100\n",
            "20/20 [==============================] - 0s 17ms/step - loss: 1.0660 - accuracy: 0.0250 - mae: 0.7697\n",
            "Epoch 47/100\n",
            "20/20 [==============================] - 0s 13ms/step - loss: 1.0721 - accuracy: 0.0234 - mae: 0.7683\n",
            "Epoch 48/100\n",
            "20/20 [==============================] - 0s 16ms/step - loss: 1.0598 - accuracy: 0.0242 - mae: 0.7716\n",
            "Epoch 49/100\n",
            "20/20 [==============================] - 0s 12ms/step - loss: 1.0485 - accuracy: 0.0242 - mae: 0.7592\n",
            "Epoch 50/100\n",
            "20/20 [==============================] - 0s 12ms/step - loss: 1.0688 - accuracy: 0.0250 - mae: 0.7703\n",
            "Epoch 51/100\n",
            "20/20 [==============================] - 0s 12ms/step - loss: 1.0516 - accuracy: 0.0242 - mae: 0.7601\n",
            "Epoch 52/100\n",
            "20/20 [==============================] - 0s 13ms/step - loss: 1.0695 - accuracy: 0.0242 - mae: 0.7784\n",
            "Epoch 53/100\n",
            "20/20 [==============================] - 0s 14ms/step - loss: 1.0392 - accuracy: 0.0250 - mae: 0.7557\n",
            "Epoch 54/100\n",
            "20/20 [==============================] - 0s 15ms/step - loss: 1.0587 - accuracy: 0.0242 - mae: 0.7563\n",
            "Epoch 55/100\n",
            "20/20 [==============================] - 0s 12ms/step - loss: 1.0392 - accuracy: 0.0242 - mae: 0.7583\n",
            "Epoch 56/100\n",
            "20/20 [==============================] - 0s 13ms/step - loss: 1.0562 - accuracy: 0.0250 - mae: 0.7705\n",
            "Epoch 57/100\n",
            "20/20 [==============================] - 0s 13ms/step - loss: 1.0753 - accuracy: 0.0242 - mae: 0.7617\n",
            "Epoch 58/100\n",
            "20/20 [==============================] - 0s 13ms/step - loss: 1.0225 - accuracy: 0.0250 - mae: 0.7591\n",
            "Epoch 59/100\n",
            "20/20 [==============================] - 0s 12ms/step - loss: 1.0786 - accuracy: 0.0250 - mae: 0.7827\n",
            "Epoch 60/100\n",
            "20/20 [==============================] - 0s 14ms/step - loss: 1.0737 - accuracy: 0.0250 - mae: 0.7699\n",
            "Epoch 61/100\n",
            "20/20 [==============================] - 0s 12ms/step - loss: 1.0556 - accuracy: 0.0242 - mae: 0.7672\n",
            "Epoch 62/100\n",
            "20/20 [==============================] - 0s 13ms/step - loss: 1.0796 - accuracy: 0.0250 - mae: 0.7770\n",
            "Epoch 63/100\n",
            "20/20 [==============================] - 0s 12ms/step - loss: 1.0504 - accuracy: 0.0250 - mae: 0.7563\n",
            "Epoch 64/100\n",
            "20/20 [==============================] - 0s 13ms/step - loss: 1.0638 - accuracy: 0.0242 - mae: 0.7742\n",
            "Epoch 65/100\n",
            "20/20 [==============================] - 0s 13ms/step - loss: 1.0653 - accuracy: 0.0242 - mae: 0.7680\n",
            "Epoch 66/100\n",
            "20/20 [==============================] - 0s 12ms/step - loss: 1.0312 - accuracy: 0.0258 - mae: 0.7522\n",
            "Epoch 67/100\n",
            "20/20 [==============================] - 0s 12ms/step - loss: 1.0626 - accuracy: 0.0242 - mae: 0.7759\n",
            "Epoch 68/100\n",
            "20/20 [==============================] - 0s 15ms/step - loss: 1.0469 - accuracy: 0.0242 - mae: 0.7641\n",
            "Epoch 69/100\n",
            "20/20 [==============================] - 0s 14ms/step - loss: 1.0439 - accuracy: 0.0250 - mae: 0.7699\n",
            "Epoch 70/100\n",
            "20/20 [==============================] - 0s 18ms/step - loss: 1.0455 - accuracy: 0.0242 - mae: 0.7575\n",
            "Epoch 71/100\n",
            "20/20 [==============================] - 0s 18ms/step - loss: 1.0486 - accuracy: 0.0242 - mae: 0.7616\n",
            "Epoch 72/100\n",
            "20/20 [==============================] - 0s 18ms/step - loss: 1.0820 - accuracy: 0.0250 - mae: 0.7829\n",
            "Epoch 73/100\n",
            "20/20 [==============================] - 0s 16ms/step - loss: 1.0671 - accuracy: 0.0242 - mae: 0.7696\n",
            "Epoch 74/100\n",
            "20/20 [==============================] - 0s 15ms/step - loss: 1.0338 - accuracy: 0.0250 - mae: 0.7530\n",
            "Epoch 75/100\n",
            "20/20 [==============================] - 0s 20ms/step - loss: 1.0890 - accuracy: 0.0250 - mae: 0.7790\n",
            "Epoch 76/100\n",
            "20/20 [==============================] - 0s 16ms/step - loss: 1.0630 - accuracy: 0.0242 - mae: 0.7689\n",
            "Epoch 77/100\n",
            "20/20 [==============================] - 0s 13ms/step - loss: 1.0702 - accuracy: 0.0250 - mae: 0.7736\n",
            "Epoch 78/100\n",
            "20/20 [==============================] - 0s 17ms/step - loss: 1.0312 - accuracy: 0.0250 - mae: 0.7580\n",
            "Epoch 79/100\n",
            "20/20 [==============================] - 0s 13ms/step - loss: 1.0462 - accuracy: 0.0234 - mae: 0.7640\n",
            "Epoch 80/100\n",
            "20/20 [==============================] - 0s 14ms/step - loss: 1.0768 - accuracy: 0.0242 - mae: 0.7733\n",
            "Epoch 81/100\n",
            "20/20 [==============================] - 0s 13ms/step - loss: 1.0379 - accuracy: 0.0242 - mae: 0.7631\n",
            "Epoch 82/100\n",
            "20/20 [==============================] - 0s 15ms/step - loss: 1.0416 - accuracy: 0.0242 - mae: 0.7580\n",
            "Epoch 83/100\n",
            "20/20 [==============================] - 0s 13ms/step - loss: 1.0600 - accuracy: 0.0242 - mae: 0.7701\n",
            "Epoch 84/100\n",
            "20/20 [==============================] - 0s 13ms/step - loss: 1.0522 - accuracy: 0.0250 - mae: 0.7621\n",
            "Epoch 85/100\n",
            "20/20 [==============================] - 0s 16ms/step - loss: 1.0570 - accuracy: 0.0242 - mae: 0.7712\n",
            "Epoch 86/100\n",
            "20/20 [==============================] - 0s 12ms/step - loss: 1.0679 - accuracy: 0.0242 - mae: 0.7671\n",
            "Epoch 87/100\n",
            "20/20 [==============================] - 0s 13ms/step - loss: 1.0502 - accuracy: 0.0250 - mae: 0.7655\n",
            "Epoch 88/100\n",
            "20/20 [==============================] - 0s 14ms/step - loss: 1.0736 - accuracy: 0.0242 - mae: 0.7749\n",
            "Epoch 89/100\n",
            "20/20 [==============================] - 0s 19ms/step - loss: 1.0560 - accuracy: 0.0242 - mae: 0.7615\n",
            "Epoch 90/100\n",
            "20/20 [==============================] - 0s 13ms/step - loss: 1.0641 - accuracy: 0.0250 - mae: 0.7591\n",
            "Epoch 91/100\n",
            "20/20 [==============================] - 0s 13ms/step - loss: 1.0378 - accuracy: 0.0242 - mae: 0.7653\n",
            "Epoch 92/100\n",
            "20/20 [==============================] - 0s 14ms/step - loss: 1.0405 - accuracy: 0.0242 - mae: 0.7547\n",
            "Epoch 93/100\n",
            "20/20 [==============================] - 0s 16ms/step - loss: 1.0441 - accuracy: 0.0250 - mae: 0.7542\n",
            "Epoch 94/100\n",
            "20/20 [==============================] - 0s 17ms/step - loss: 1.0418 - accuracy: 0.0242 - mae: 0.7539\n",
            "Epoch 95/100\n",
            "20/20 [==============================] - 0s 15ms/step - loss: 1.0474 - accuracy: 0.0242 - mae: 0.7618\n",
            "Epoch 96/100\n",
            "20/20 [==============================] - 0s 13ms/step - loss: 1.0525 - accuracy: 0.0242 - mae: 0.7674\n",
            "Epoch 97/100\n",
            "20/20 [==============================] - 0s 13ms/step - loss: 1.0195 - accuracy: 0.0242 - mae: 0.7486\n",
            "Epoch 98/100\n",
            "20/20 [==============================] - 0s 12ms/step - loss: 1.0404 - accuracy: 0.0242 - mae: 0.7654\n",
            "Epoch 99/100\n",
            "20/20 [==============================] - 0s 14ms/step - loss: 1.0601 - accuracy: 0.0242 - mae: 0.7576\n",
            "Epoch 100/100\n",
            "20/20 [==============================] - 0s 12ms/step - loss: 1.0198 - accuracy: 0.0242 - mae: 0.7442\n"
          ],
          "name": "stdout"
        },
        {
          "output_type": "execute_result",
          "data": {
            "text/plain": [
              "<keras.callbacks.History at 0x7f1a479fc3d0>"
            ]
          },
          "metadata": {
            "tags": []
          },
          "execution_count": 37
        }
      ]
    },
    {
      "cell_type": "code",
      "metadata": {
        "colab": {
          "base_uri": "https://localhost:8080/"
        },
        "id": "_afjvGorNtDs",
        "outputId": "15d3cfce-47e0-415a-8605-7e52e023ded3"
      },
      "source": [
        "lstm_model.save('final_lstm_v1.h5')\n",
        "y_pred = lstm_model.predict(testing_vectors)\n",
        "y_pred = np.around(y_pred)\n",
        "y_pred"
      ],
      "execution_count": null,
      "outputs": [
        {
          "output_type": "execute_result",
          "data": {
            "text/plain": [
              "array([[3.],\n",
              "       [3.],\n",
              "       [2.],\n",
              "       [3.],\n",
              "       [3.],\n",
              "       [3.],\n",
              "       [2.],\n",
              "       [2.],\n",
              "       [2.],\n",
              "       [3.],\n",
              "       [3.],\n",
              "       [3.],\n",
              "       [3.],\n",
              "       [3.],\n",
              "       [3.],\n",
              "       [3.],\n",
              "       [3.],\n",
              "       [3.],\n",
              "       [3.],\n",
              "       [2.],\n",
              "       [3.],\n",
              "       [3.],\n",
              "       [2.],\n",
              "       [3.],\n",
              "       [3.],\n",
              "       [3.],\n",
              "       [3.],\n",
              "       [3.],\n",
              "       [3.],\n",
              "       [3.],\n",
              "       [3.],\n",
              "       [3.],\n",
              "       [3.],\n",
              "       [3.],\n",
              "       [3.],\n",
              "       [2.],\n",
              "       [3.],\n",
              "       [3.],\n",
              "       [3.],\n",
              "       [3.],\n",
              "       [2.],\n",
              "       [3.],\n",
              "       [3.],\n",
              "       [3.],\n",
              "       [2.],\n",
              "       [3.],\n",
              "       [3.],\n",
              "       [3.],\n",
              "       [3.],\n",
              "       [3.],\n",
              "       [3.],\n",
              "       [3.],\n",
              "       [3.],\n",
              "       [3.],\n",
              "       [2.],\n",
              "       [2.],\n",
              "       [3.],\n",
              "       [3.],\n",
              "       [3.],\n",
              "       [3.],\n",
              "       [3.],\n",
              "       [3.],\n",
              "       [3.],\n",
              "       [3.],\n",
              "       [3.],\n",
              "       [3.],\n",
              "       [3.],\n",
              "       [2.],\n",
              "       [3.],\n",
              "       [2.],\n",
              "       [2.],\n",
              "       [2.],\n",
              "       [3.],\n",
              "       [2.],\n",
              "       [2.],\n",
              "       [3.],\n",
              "       [3.],\n",
              "       [3.],\n",
              "       [2.],\n",
              "       [2.],\n",
              "       [3.],\n",
              "       [3.],\n",
              "       [2.],\n",
              "       [3.],\n",
              "       [3.],\n",
              "       [3.],\n",
              "       [2.],\n",
              "       [2.],\n",
              "       [2.],\n",
              "       [2.],\n",
              "       [2.],\n",
              "       [3.],\n",
              "       [2.],\n",
              "       [2.],\n",
              "       [2.],\n",
              "       [2.],\n",
              "       [2.],\n",
              "       [3.],\n",
              "       [3.],\n",
              "       [2.],\n",
              "       [3.],\n",
              "       [2.],\n",
              "       [3.],\n",
              "       [3.],\n",
              "       [3.],\n",
              "       [2.],\n",
              "       [1.],\n",
              "       [2.],\n",
              "       [2.],\n",
              "       [3.],\n",
              "       [3.],\n",
              "       [2.],\n",
              "       [2.],\n",
              "       [2.],\n",
              "       [3.],\n",
              "       [2.],\n",
              "       [2.],\n",
              "       [2.],\n",
              "       [2.],\n",
              "       [3.],\n",
              "       [2.],\n",
              "       [3.],\n",
              "       [3.],\n",
              "       [2.],\n",
              "       [2.],\n",
              "       [2.],\n",
              "       [2.],\n",
              "       [2.],\n",
              "       [3.],\n",
              "       [2.],\n",
              "       [3.],\n",
              "       [2.],\n",
              "       [2.],\n",
              "       [2.],\n",
              "       [2.],\n",
              "       [2.],\n",
              "       [3.],\n",
              "       [3.],\n",
              "       [2.],\n",
              "       [2.],\n",
              "       [2.],\n",
              "       [3.],\n",
              "       [3.],\n",
              "       [2.],\n",
              "       [3.],\n",
              "       [3.],\n",
              "       [3.],\n",
              "       [3.],\n",
              "       [3.],\n",
              "       [3.],\n",
              "       [3.],\n",
              "       [3.],\n",
              "       [3.],\n",
              "       [3.],\n",
              "       [3.],\n",
              "       [3.],\n",
              "       [3.],\n",
              "       [3.],\n",
              "       [3.],\n",
              "       [3.],\n",
              "       [3.],\n",
              "       [3.],\n",
              "       [3.],\n",
              "       [3.],\n",
              "       [3.],\n",
              "       [3.],\n",
              "       [3.],\n",
              "       [3.],\n",
              "       [3.],\n",
              "       [3.],\n",
              "       [3.],\n",
              "       [3.],\n",
              "       [3.],\n",
              "       [3.],\n",
              "       [3.],\n",
              "       [3.],\n",
              "       [3.],\n",
              "       [3.],\n",
              "       [3.],\n",
              "       [3.],\n",
              "       [3.],\n",
              "       [3.],\n",
              "       [3.],\n",
              "       [3.],\n",
              "       [3.],\n",
              "       [3.],\n",
              "       [3.],\n",
              "       [3.],\n",
              "       [3.],\n",
              "       [3.],\n",
              "       [3.],\n",
              "       [3.],\n",
              "       [3.],\n",
              "       [3.],\n",
              "       [3.],\n",
              "       [3.],\n",
              "       [3.],\n",
              "       [3.],\n",
              "       [3.],\n",
              "       [3.],\n",
              "       [3.],\n",
              "       [3.],\n",
              "       [3.],\n",
              "       [3.],\n",
              "       [3.],\n",
              "       [3.],\n",
              "       [3.],\n",
              "       [3.],\n",
              "       [3.],\n",
              "       [3.],\n",
              "       [3.],\n",
              "       [3.],\n",
              "       [3.],\n",
              "       [3.],\n",
              "       [3.],\n",
              "       [3.],\n",
              "       [3.],\n",
              "       [3.],\n",
              "       [3.],\n",
              "       [3.],\n",
              "       [3.],\n",
              "       [3.],\n",
              "       [3.],\n",
              "       [3.],\n",
              "       [3.],\n",
              "       [2.],\n",
              "       [2.],\n",
              "       [2.],\n",
              "       [1.],\n",
              "       [1.],\n",
              "       [2.],\n",
              "       [2.],\n",
              "       [2.],\n",
              "       [2.],\n",
              "       [2.],\n",
              "       [2.],\n",
              "       [2.],\n",
              "       [2.],\n",
              "       [2.],\n",
              "       [2.],\n",
              "       [2.],\n",
              "       [3.],\n",
              "       [2.],\n",
              "       [2.],\n",
              "       [2.],\n",
              "       [2.],\n",
              "       [2.],\n",
              "       [2.],\n",
              "       [2.],\n",
              "       [2.],\n",
              "       [2.],\n",
              "       [2.],\n",
              "       [1.],\n",
              "       [2.],\n",
              "       [3.],\n",
              "       [2.],\n",
              "       [2.],\n",
              "       [3.],\n",
              "       [2.],\n",
              "       [1.],\n",
              "       [2.],\n",
              "       [2.],\n",
              "       [2.],\n",
              "       [2.],\n",
              "       [2.],\n",
              "       [2.],\n",
              "       [3.],\n",
              "       [2.],\n",
              "       [2.],\n",
              "       [2.],\n",
              "       [3.],\n",
              "       [2.],\n",
              "       [1.],\n",
              "       [2.],\n",
              "       [2.],\n",
              "       [2.],\n",
              "       [2.],\n",
              "       [2.],\n",
              "       [2.],\n",
              "       [2.],\n",
              "       [2.],\n",
              "       [2.],\n",
              "       [2.],\n",
              "       [1.],\n",
              "       [2.],\n",
              "       [2.],\n",
              "       [3.],\n",
              "       [2.],\n",
              "       [2.],\n",
              "       [2.],\n",
              "       [2.],\n",
              "       [3.],\n",
              "       [2.],\n",
              "       [2.],\n",
              "       [2.],\n",
              "       [2.],\n",
              "       [2.],\n",
              "       [2.],\n",
              "       [2.],\n",
              "       [2.],\n",
              "       [2.],\n",
              "       [2.],\n",
              "       [2.],\n",
              "       [2.],\n",
              "       [2.]], dtype=float32)"
            ]
          },
          "metadata": {
            "tags": []
          },
          "execution_count": 38
        }
      ]
    },
    {
      "cell_type": "code",
      "metadata": {
        "colab": {
          "base_uri": "https://localhost:8080/"
        },
        "id": "CqZaM2PYRPxx",
        "outputId": "66349281-c4fe-4cac-c1f7-21782faabd22"
      },
      "source": [
        "y_pred.shape"
      ],
      "execution_count": null,
      "outputs": [
        {
          "output_type": "execute_result",
          "data": {
            "text/plain": [
              "(305, 1)"
            ]
          },
          "metadata": {
            "tags": []
          },
          "execution_count": 39
        }
      ]
    },
    {
      "cell_type": "code",
      "metadata": {
        "id": "XXj6-kDPTMfp"
      },
      "source": [
        "y_pred = y_pred.flatten()"
      ],
      "execution_count": null,
      "outputs": []
    },
    {
      "cell_type": "code",
      "metadata": {
        "colab": {
          "base_uri": "https://localhost:8080/"
        },
        "id": "-Pq5U2K7TS3E",
        "outputId": "82277ada-446c-424c-a1eb-6f672628beb1"
      },
      "source": [
        "y_pred"
      ],
      "execution_count": null,
      "outputs": [
        {
          "output_type": "execute_result",
          "data": {
            "text/plain": [
              "array([3., 3., 2., 3., 3., 3., 2., 2., 2., 3., 3., 3., 3., 3., 3., 3., 3.,\n",
              "       3., 3., 2., 3., 3., 2., 3., 3., 3., 3., 3., 3., 3., 3., 3., 3., 3.,\n",
              "       3., 2., 3., 3., 3., 3., 2., 3., 3., 3., 2., 3., 3., 3., 3., 3., 3.,\n",
              "       3., 3., 3., 2., 2., 3., 3., 3., 3., 3., 3., 3., 3., 3., 3., 3., 2.,\n",
              "       3., 2., 2., 2., 3., 2., 2., 3., 3., 3., 2., 2., 3., 3., 2., 3., 3.,\n",
              "       3., 2., 2., 2., 2., 2., 3., 2., 2., 2., 2., 2., 3., 3., 2., 3., 2.,\n",
              "       3., 3., 3., 2., 1., 2., 2., 3., 3., 2., 2., 2., 3., 2., 2., 2., 2.,\n",
              "       3., 2., 3., 3., 2., 2., 2., 2., 2., 3., 2., 3., 2., 2., 2., 2., 2.,\n",
              "       3., 3., 2., 2., 2., 3., 3., 2., 3., 3., 3., 3., 3., 3., 3., 3., 3.,\n",
              "       3., 3., 3., 3., 3., 3., 3., 3., 3., 3., 3., 3., 3., 3., 3., 3., 3.,\n",
              "       3., 3., 3., 3., 3., 3., 3., 3., 3., 3., 3., 3., 3., 3., 3., 3., 3.,\n",
              "       3., 3., 3., 3., 3., 3., 3., 3., 3., 3., 3., 3., 3., 3., 3., 3., 3.,\n",
              "       3., 3., 3., 3., 3., 3., 3., 3., 3., 3., 3., 3., 3., 3., 3., 3., 3.,\n",
              "       3., 3., 3., 3., 2., 2., 2., 1., 1., 2., 2., 2., 2., 2., 2., 2., 2.,\n",
              "       2., 2., 2., 3., 2., 2., 2., 2., 2., 2., 2., 2., 2., 2., 1., 2., 3.,\n",
              "       2., 2., 3., 2., 1., 2., 2., 2., 2., 2., 2., 3., 2., 2., 2., 3., 2.,\n",
              "       1., 2., 2., 2., 2., 2., 2., 2., 2., 2., 2., 1., 2., 2., 3., 2., 2.,\n",
              "       2., 2., 3., 2., 2., 2., 2., 2., 2., 2., 2., 2., 2., 2., 2., 2.],\n",
              "      dtype=float32)"
            ]
          },
          "metadata": {
            "tags": []
          },
          "execution_count": 41
        }
      ]
    },
    {
      "cell_type": "code",
      "metadata": {
        "id": "VRCqJAhPOi4s"
      },
      "source": [
        "predicted_score = pd.read_csv('/content/drive/MyDrive/ai_hiring/test.csv')"
      ],
      "execution_count": null,
      "outputs": []
    },
    {
      "cell_type": "code",
      "metadata": {
        "colab": {
          "base_uri": "https://localhost:8080/",
          "height": 402
        },
        "id": "ILv3fC-ZQ2Xk",
        "outputId": "d20a0a05-5256-43ec-e182-f801c839c5bc"
      },
      "source": [
        "predicted_score"
      ],
      "execution_count": null,
      "outputs": [
        {
          "output_type": "execute_result",
          "data": {
            "text/html": [
              "<div>\n",
              "<style scoped>\n",
              "    .dataframe tbody tr th:only-of-type {\n",
              "        vertical-align: middle;\n",
              "    }\n",
              "\n",
              "    .dataframe tbody tr th {\n",
              "        vertical-align: top;\n",
              "    }\n",
              "\n",
              "    .dataframe thead th {\n",
              "        text-align: right;\n",
              "    }\n",
              "</style>\n",
              "<table border=\"1\" class=\"dataframe\">\n",
              "  <thead>\n",
              "    <tr style=\"text-align: right;\">\n",
              "      <th></th>\n",
              "      <th>Unnamed: 0</th>\n",
              "      <th>promptId</th>\n",
              "      <th>uniqueId</th>\n",
              "      <th>essay</th>\n",
              "    </tr>\n",
              "  </thead>\n",
              "  <tbody>\n",
              "    <tr>\n",
              "      <th>0</th>\n",
              "      <td>0</td>\n",
              "      <td>1</td>\n",
              "      <td>1_315</td>\n",
              "      <td>Curriculum has been adopted in many schools. T...</td>\n",
              "    </tr>\n",
              "    <tr>\n",
              "      <th>1</th>\n",
              "      <td>1</td>\n",
              "      <td>1</td>\n",
              "      <td>1_214</td>\n",
              "      <td>I strongly agree with the statement ,  The tig...</td>\n",
              "    </tr>\n",
              "    <tr>\n",
              "      <th>2</th>\n",
              "      <td>2</td>\n",
              "      <td>1</td>\n",
              "      <td>1_196</td>\n",
              "      <td>Imagination and creativity is the most importa...</td>\n",
              "    </tr>\n",
              "    <tr>\n",
              "      <th>3</th>\n",
              "      <td>3</td>\n",
              "      <td>1</td>\n",
              "      <td>1_178</td>\n",
              "      <td>In our eduction system leaves no room for imag...</td>\n",
              "    </tr>\n",
              "    <tr>\n",
              "      <th>4</th>\n",
              "      <td>4</td>\n",
              "      <td>1</td>\n",
              "      <td>1_201</td>\n",
              "      <td>I will agree at some what extend, because if w...</td>\n",
              "    </tr>\n",
              "    <tr>\n",
              "      <th>...</th>\n",
              "      <td>...</td>\n",
              "      <td>...</td>\n",
              "      <td>...</td>\n",
              "      <td>...</td>\n",
              "    </tr>\n",
              "    <tr>\n",
              "      <th>300</th>\n",
              "      <td>300</td>\n",
              "      <td>5</td>\n",
              "      <td>5_146</td>\n",
              "      <td>Earth is a creation of God and everything that...</td>\n",
              "    </tr>\n",
              "    <tr>\n",
              "      <th>301</th>\n",
              "      <td>301</td>\n",
              "      <td>5</td>\n",
              "      <td>5_65</td>\n",
              "      <td>production of arms and weapons in this present...</td>\n",
              "    </tr>\n",
              "    <tr>\n",
              "      <th>302</th>\n",
              "      <td>302</td>\n",
              "      <td>5</td>\n",
              "      <td>5_151</td>\n",
              "      <td>Race to become more powerful can destroy the e...</td>\n",
              "    </tr>\n",
              "    <tr>\n",
              "      <th>303</th>\n",
              "      <td>303</td>\n",
              "      <td>5</td>\n",
              "      <td>5_404</td>\n",
              "      <td>In its attempt to harness the power of the ato...</td>\n",
              "    </tr>\n",
              "    <tr>\n",
              "      <th>304</th>\n",
              "      <td>304</td>\n",
              "      <td>5</td>\n",
              "      <td>5_360</td>\n",
              "      <td>Racein the production of arms and weapons in t...</td>\n",
              "    </tr>\n",
              "  </tbody>\n",
              "</table>\n",
              "<p>305 rows × 4 columns</p>\n",
              "</div>"
            ],
            "text/plain": [
              "     Unnamed: 0  ...                                              essay\n",
              "0             0  ...  Curriculum has been adopted in many schools. T...\n",
              "1             1  ...  I strongly agree with the statement ,  The tig...\n",
              "2             2  ...  Imagination and creativity is the most importa...\n",
              "3             3  ...  In our eduction system leaves no room for imag...\n",
              "4             4  ...  I will agree at some what extend, because if w...\n",
              "..          ...  ...                                                ...\n",
              "300         300  ...  Earth is a creation of God and everything that...\n",
              "301         301  ...  production of arms and weapons in this present...\n",
              "302         302  ...  Race to become more powerful can destroy the e...\n",
              "303         303  ...  In its attempt to harness the power of the ato...\n",
              "304         304  ...  Racein the production of arms and weapons in t...\n",
              "\n",
              "[305 rows x 4 columns]"
            ]
          },
          "metadata": {
            "tags": []
          },
          "execution_count": 43
        }
      ]
    },
    {
      "cell_type": "code",
      "metadata": {
        "id": "nvvQpHUTSZZj"
      },
      "source": [
        "predicted_score['predicted_score'] = y_pred"
      ],
      "execution_count": null,
      "outputs": []
    },
    {
      "cell_type": "code",
      "metadata": {
        "colab": {
          "base_uri": "https://localhost:8080/",
          "height": 402
        },
        "id": "x2h20nQxUmoD",
        "outputId": "072fa662-30ee-4b8a-918d-d37bb0554841"
      },
      "source": [
        "predicted_score"
      ],
      "execution_count": null,
      "outputs": [
        {
          "output_type": "execute_result",
          "data": {
            "text/html": [
              "<div>\n",
              "<style scoped>\n",
              "    .dataframe tbody tr th:only-of-type {\n",
              "        vertical-align: middle;\n",
              "    }\n",
              "\n",
              "    .dataframe tbody tr th {\n",
              "        vertical-align: top;\n",
              "    }\n",
              "\n",
              "    .dataframe thead th {\n",
              "        text-align: right;\n",
              "    }\n",
              "</style>\n",
              "<table border=\"1\" class=\"dataframe\">\n",
              "  <thead>\n",
              "    <tr style=\"text-align: right;\">\n",
              "      <th></th>\n",
              "      <th>Unnamed: 0</th>\n",
              "      <th>promptId</th>\n",
              "      <th>uniqueId</th>\n",
              "      <th>essay</th>\n",
              "      <th>predicted_score</th>\n",
              "    </tr>\n",
              "  </thead>\n",
              "  <tbody>\n",
              "    <tr>\n",
              "      <th>0</th>\n",
              "      <td>0</td>\n",
              "      <td>1</td>\n",
              "      <td>1_315</td>\n",
              "      <td>Curriculum has been adopted in many schools. T...</td>\n",
              "      <td>3.0</td>\n",
              "    </tr>\n",
              "    <tr>\n",
              "      <th>1</th>\n",
              "      <td>1</td>\n",
              "      <td>1</td>\n",
              "      <td>1_214</td>\n",
              "      <td>I strongly agree with the statement ,  The tig...</td>\n",
              "      <td>3.0</td>\n",
              "    </tr>\n",
              "    <tr>\n",
              "      <th>2</th>\n",
              "      <td>2</td>\n",
              "      <td>1</td>\n",
              "      <td>1_196</td>\n",
              "      <td>Imagination and creativity is the most importa...</td>\n",
              "      <td>2.0</td>\n",
              "    </tr>\n",
              "    <tr>\n",
              "      <th>3</th>\n",
              "      <td>3</td>\n",
              "      <td>1</td>\n",
              "      <td>1_178</td>\n",
              "      <td>In our eduction system leaves no room for imag...</td>\n",
              "      <td>3.0</td>\n",
              "    </tr>\n",
              "    <tr>\n",
              "      <th>4</th>\n",
              "      <td>4</td>\n",
              "      <td>1</td>\n",
              "      <td>1_201</td>\n",
              "      <td>I will agree at some what extend, because if w...</td>\n",
              "      <td>3.0</td>\n",
              "    </tr>\n",
              "    <tr>\n",
              "      <th>...</th>\n",
              "      <td>...</td>\n",
              "      <td>...</td>\n",
              "      <td>...</td>\n",
              "      <td>...</td>\n",
              "      <td>...</td>\n",
              "    </tr>\n",
              "    <tr>\n",
              "      <th>300</th>\n",
              "      <td>300</td>\n",
              "      <td>5</td>\n",
              "      <td>5_146</td>\n",
              "      <td>Earth is a creation of God and everything that...</td>\n",
              "      <td>2.0</td>\n",
              "    </tr>\n",
              "    <tr>\n",
              "      <th>301</th>\n",
              "      <td>301</td>\n",
              "      <td>5</td>\n",
              "      <td>5_65</td>\n",
              "      <td>production of arms and weapons in this present...</td>\n",
              "      <td>2.0</td>\n",
              "    </tr>\n",
              "    <tr>\n",
              "      <th>302</th>\n",
              "      <td>302</td>\n",
              "      <td>5</td>\n",
              "      <td>5_151</td>\n",
              "      <td>Race to become more powerful can destroy the e...</td>\n",
              "      <td>2.0</td>\n",
              "    </tr>\n",
              "    <tr>\n",
              "      <th>303</th>\n",
              "      <td>303</td>\n",
              "      <td>5</td>\n",
              "      <td>5_404</td>\n",
              "      <td>In its attempt to harness the power of the ato...</td>\n",
              "      <td>2.0</td>\n",
              "    </tr>\n",
              "    <tr>\n",
              "      <th>304</th>\n",
              "      <td>304</td>\n",
              "      <td>5</td>\n",
              "      <td>5_360</td>\n",
              "      <td>Racein the production of arms and weapons in t...</td>\n",
              "      <td>2.0</td>\n",
              "    </tr>\n",
              "  </tbody>\n",
              "</table>\n",
              "<p>305 rows × 5 columns</p>\n",
              "</div>"
            ],
            "text/plain": [
              "     Unnamed: 0  ...  predicted_score\n",
              "0             0  ...              3.0\n",
              "1             1  ...              3.0\n",
              "2             2  ...              2.0\n",
              "3             3  ...              3.0\n",
              "4             4  ...              3.0\n",
              "..          ...  ...              ...\n",
              "300         300  ...              2.0\n",
              "301         301  ...              2.0\n",
              "302         302  ...              2.0\n",
              "303         303  ...              2.0\n",
              "304         304  ...              2.0\n",
              "\n",
              "[305 rows x 5 columns]"
            ]
          },
          "metadata": {
            "tags": []
          },
          "execution_count": 45
        }
      ]
    },
    {
      "cell_type": "code",
      "metadata": {
        "id": "v5cUa7NEaE3O"
      },
      "source": [
        "predicted_score.to_csv('test_prediction.csv', index = False)"
      ],
      "execution_count": null,
      "outputs": []
    },
    {
      "cell_type": "code",
      "metadata": {
        "colab": {
          "base_uri": "https://localhost:8080/",
          "height": 402
        },
        "id": "J17WnB64ah48",
        "outputId": "d7fa8f69-f2f7-44c4-b9be-3083055e0ede"
      },
      "source": [
        "pred = pd.read_csv('/content/test_prediction.csv')\n",
        "pred"
      ],
      "execution_count": null,
      "outputs": [
        {
          "output_type": "execute_result",
          "data": {
            "text/html": [
              "<div>\n",
              "<style scoped>\n",
              "    .dataframe tbody tr th:only-of-type {\n",
              "        vertical-align: middle;\n",
              "    }\n",
              "\n",
              "    .dataframe tbody tr th {\n",
              "        vertical-align: top;\n",
              "    }\n",
              "\n",
              "    .dataframe thead th {\n",
              "        text-align: right;\n",
              "    }\n",
              "</style>\n",
              "<table border=\"1\" class=\"dataframe\">\n",
              "  <thead>\n",
              "    <tr style=\"text-align: right;\">\n",
              "      <th></th>\n",
              "      <th>Unnamed: 0</th>\n",
              "      <th>promptId</th>\n",
              "      <th>uniqueId</th>\n",
              "      <th>essay</th>\n",
              "      <th>predicted_score</th>\n",
              "    </tr>\n",
              "  </thead>\n",
              "  <tbody>\n",
              "    <tr>\n",
              "      <th>0</th>\n",
              "      <td>0</td>\n",
              "      <td>1</td>\n",
              "      <td>1_315</td>\n",
              "      <td>Curriculum has been adopted in many schools. T...</td>\n",
              "      <td>3.0</td>\n",
              "    </tr>\n",
              "    <tr>\n",
              "      <th>1</th>\n",
              "      <td>1</td>\n",
              "      <td>1</td>\n",
              "      <td>1_214</td>\n",
              "      <td>I strongly agree with the statement ,  The tig...</td>\n",
              "      <td>3.0</td>\n",
              "    </tr>\n",
              "    <tr>\n",
              "      <th>2</th>\n",
              "      <td>2</td>\n",
              "      <td>1</td>\n",
              "      <td>1_196</td>\n",
              "      <td>Imagination and creativity is the most importa...</td>\n",
              "      <td>2.0</td>\n",
              "    </tr>\n",
              "    <tr>\n",
              "      <th>3</th>\n",
              "      <td>3</td>\n",
              "      <td>1</td>\n",
              "      <td>1_178</td>\n",
              "      <td>In our eduction system leaves no room for imag...</td>\n",
              "      <td>3.0</td>\n",
              "    </tr>\n",
              "    <tr>\n",
              "      <th>4</th>\n",
              "      <td>4</td>\n",
              "      <td>1</td>\n",
              "      <td>1_201</td>\n",
              "      <td>I will agree at some what extend, because if w...</td>\n",
              "      <td>3.0</td>\n",
              "    </tr>\n",
              "    <tr>\n",
              "      <th>...</th>\n",
              "      <td>...</td>\n",
              "      <td>...</td>\n",
              "      <td>...</td>\n",
              "      <td>...</td>\n",
              "      <td>...</td>\n",
              "    </tr>\n",
              "    <tr>\n",
              "      <th>300</th>\n",
              "      <td>300</td>\n",
              "      <td>5</td>\n",
              "      <td>5_146</td>\n",
              "      <td>Earth is a creation of God and everything that...</td>\n",
              "      <td>2.0</td>\n",
              "    </tr>\n",
              "    <tr>\n",
              "      <th>301</th>\n",
              "      <td>301</td>\n",
              "      <td>5</td>\n",
              "      <td>5_65</td>\n",
              "      <td>production of arms and weapons in this present...</td>\n",
              "      <td>2.0</td>\n",
              "    </tr>\n",
              "    <tr>\n",
              "      <th>302</th>\n",
              "      <td>302</td>\n",
              "      <td>5</td>\n",
              "      <td>5_151</td>\n",
              "      <td>Race to become more powerful can destroy the e...</td>\n",
              "      <td>2.0</td>\n",
              "    </tr>\n",
              "    <tr>\n",
              "      <th>303</th>\n",
              "      <td>303</td>\n",
              "      <td>5</td>\n",
              "      <td>5_404</td>\n",
              "      <td>In its attempt to harness the power of the ato...</td>\n",
              "      <td>2.0</td>\n",
              "    </tr>\n",
              "    <tr>\n",
              "      <th>304</th>\n",
              "      <td>304</td>\n",
              "      <td>5</td>\n",
              "      <td>5_360</td>\n",
              "      <td>Racein the production of arms and weapons in t...</td>\n",
              "      <td>2.0</td>\n",
              "    </tr>\n",
              "  </tbody>\n",
              "</table>\n",
              "<p>305 rows × 5 columns</p>\n",
              "</div>"
            ],
            "text/plain": [
              "     Unnamed: 0  ...  predicted_score\n",
              "0             0  ...              3.0\n",
              "1             1  ...              3.0\n",
              "2             2  ...              2.0\n",
              "3             3  ...              3.0\n",
              "4             4  ...              3.0\n",
              "..          ...  ...              ...\n",
              "300         300  ...              2.0\n",
              "301         301  ...              2.0\n",
              "302         302  ...              2.0\n",
              "303         303  ...              2.0\n",
              "304         304  ...              2.0\n",
              "\n",
              "[305 rows x 5 columns]"
            ]
          },
          "metadata": {
            "tags": []
          },
          "execution_count": 48
        }
      ]
    }
  ]
}